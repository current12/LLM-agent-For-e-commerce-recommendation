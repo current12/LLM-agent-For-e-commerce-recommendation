{
 "cells": [
  {
   "cell_type": "code",
   "execution_count": 28,
   "metadata": {},
   "outputs": [],
   "source": [
    "import datasets\n",
    "from datasets import load_dataset\n",
    "import json"
   ]
  },
  {
   "cell_type": "code",
   "execution_count": null,
   "metadata": {},
   "outputs": [],
   "source": [
    "meta = load_dataset(\"McAuley-Lab/Amazon-Reviews-2023\", \"raw_meta_All_Beauty\", trust_remote_code=True)"
   ]
  },
  {
   "cell_type": "code",
   "execution_count": null,
   "metadata": {},
   "outputs": [],
   "source": [
    "dataset = load_dataset(\"McAuley-Lab/Amazon-Reviews-2023\", \"5core_last_out_w_his_All_Beauty\", trust_remote_code=True)"
   ]
  },
  {
   "cell_type": "code",
   "execution_count": null,
   "metadata": {},
   "outputs": [],
   "source": [
    "meta_data = {}\n",
    "\n",
    "products = set()\n",
    "for i in range(len(dataset['test'])):\n",
    "    products.add(dataset['test'][i]['parent_asin'])\n",
    "    products.update(dataset['test'][i]['history'].split())\n",
    "    \n",
    "    \n",
    "for i in range(len(meta['full'])):\n",
    "    if meta['full'][i]['parent_asin'] in products:\n",
    "        meta_data[meta['full'][i]['parent_asin']] = {\n",
    "            'title' : meta['full'][i]['title'],\n",
    "            'average_rating' : meta['full'][i]['average_rating'],\n",
    "            'rating_number' : meta['full'][i]['rating_number'],\n",
    "            'features' : meta['full'][i]['features'],\n",
    "            'description' : meta['full'][i]['description'],\n",
    "            'price' : meta['full'][i]['price'],\n",
    "            'store' : meta['full'][i]['store'],\n",
    "            'details' : meta['full'][i]['details'],\n",
    "            'bought_together' : meta['full'][i]['bought_together']\n",
    "        }"
   ]
  },
  {
   "cell_type": "code",
   "execution_count": 30,
   "metadata": {},
   "outputs": [],
   "source": [
    "with open('config/meta_data.json', 'w') as f:\n",
    "    json.dump(meta_data, f)"
   ]
  },
  {
   "cell_type": "code",
   "execution_count": null,
   "metadata": {},
   "outputs": [],
   "source": []
  }
 ],
 "metadata": {
  "kernelspec": {
   "display_name": "cs294",
   "language": "python",
   "name": "python3"
  },
  "language_info": {
   "codemirror_mode": {
    "name": "ipython",
    "version": 3
   },
   "file_extension": ".py",
   "mimetype": "text/x-python",
   "name": "python",
   "nbconvert_exporter": "python",
   "pygments_lexer": "ipython3",
   "version": "3.10.15"
  }
 },
 "nbformat": 4,
 "nbformat_minor": 2
}
