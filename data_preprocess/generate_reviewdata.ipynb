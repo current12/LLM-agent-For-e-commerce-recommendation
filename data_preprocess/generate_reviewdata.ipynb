{
 "cells": [
  {
   "cell_type": "code",
   "execution_count": 2,
   "metadata": {},
   "outputs": [
    {
     "name": "stderr",
     "output_type": "stream",
     "text": [
      "/Users/haodong/opt/anaconda3/envs/cs294/lib/python3.10/site-packages/tqdm/auto.py:21: TqdmWarning: IProgress not found. Please update jupyter and ipywidgets. See https://ipywidgets.readthedocs.io/en/stable/user_install.html\n",
      "  from .autonotebook import tqdm as notebook_tqdm\n"
     ]
    }
   ],
   "source": [
    "from datasets import load_dataset\n",
    "import json"
   ]
  },
  {
   "cell_type": "code",
   "execution_count": 3,
   "metadata": {},
   "outputs": [],
   "source": [
    "review = load_dataset(\"McAuley-Lab/Amazon-Reviews-2023\", \"raw_review_All_Beauty\", trust_remote_code=True)"
   ]
  },
  {
   "cell_type": "code",
   "execution_count": 5,
   "metadata": {},
   "outputs": [],
   "source": [
    "dataset = load_dataset(\"McAuley-Lab/Amazon-Reviews-2023\", \"5core_last_out_w_his_All_Beauty\", trust_remote_code=True)"
   ]
  },
  {
   "cell_type": "code",
   "execution_count": 6,
   "metadata": {},
   "outputs": [],
   "source": [
    "interactions = set()\n",
    "for i in range(len(dataset['train'])):\n",
    "    user_id, parent_asin, timestamp = dataset['train'][i]['user_id'], dataset['train'][i]['parent_asin'], dataset['train'][i]['timestamp']\n",
    "    interactions.add((user_id, parent_asin, timestamp))\n",
    "    \n",
    "for j in range(len(dataset['valid'])):\n",
    "    user_id, parent_asin, timestamp = dataset['valid'][j]['user_id'], dataset['valid'][j]['parent_asin'], dataset['valid'][j]['timestamp']\n",
    "    interactions.add((user_id, parent_asin, timestamp))\n",
    "    "
   ]
  },
  {
   "cell_type": "code",
   "execution_count": 7,
   "metadata": {},
   "outputs": [],
   "source": [
    "history_reviews = {}\n",
    "for i in range(len(review['full'])):\n",
    "    if (review['full'][i]['user_id'], review['full'][i]['parent_asin'], str(review['full'][i]['timestamp'])) in interactions:\n",
    "        if review['full'][i]['user_id'] not in history_reviews:\n",
    "            history_reviews[review['full'][i]['user_id']] = {}\n",
    "            \n",
    "        history_reviews[review['full'][i]['user_id']][review['full'][i]['parent_asin']] = {\n",
    "            'rating': review['full'][i]['rating'],\n",
    "            'title': review['full'][i]['title'],\n",
    "            'text': review['full'][i]['text']\n",
    "        }\n",
    "            "
   ]
  },
  {
   "cell_type": "code",
   "execution_count": 9,
   "metadata": {},
   "outputs": [],
   "source": [
    "with open('../config/history_reviews.json', 'w') as f:\n",
    "    json.dump(history_reviews, f)"
   ]
  },
  {
   "cell_type": "code",
   "execution_count": null,
   "metadata": {},
   "outputs": [],
   "source": []
  }
 ],
 "metadata": {
  "kernelspec": {
   "display_name": "cs294",
   "language": "python",
   "name": "python3"
  },
  "language_info": {
   "codemirror_mode": {
    "name": "ipython",
    "version": 3
   },
   "file_extension": ".py",
   "mimetype": "text/x-python",
   "name": "python",
   "nbconvert_exporter": "python",
   "pygments_lexer": "ipython3",
   "version": "3.10.15"
  }
 },
 "nbformat": 4,
 "nbformat_minor": 2
}
